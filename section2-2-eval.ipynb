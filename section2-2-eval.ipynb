{
 "cells": [
  {
   "cell_type": "code",
   "execution_count": null,
   "id": "9ea493f5-a5ec-4d58-8f34-e11cc0963b28",
   "metadata": {},
   "outputs": [],
   "source": [
    "from data_utils import *\n",
    "from evaluate import *\n",
    "from dataset import TLDataset\n",
    "from transformers import T5ForConditionalGeneration,AutoTokenizer, AutoConfig\n",
    "from torch.utils.data import Dataset, DataLoader\n",
    "import pytorch_lightning as pl\n",
    "import argparse\n",
    "import logging\n",
    "import torch\n",
    "from multiprocessing import cpu_count\n",
    "from finetuner import T5FineTuner\n",
    "from ray_lightning import RayStrategy\n",
    "from pytorch_lightning.callbacks.early_stopping import EarlyStopping\n",
    "from pytorch_lightning.callbacks import ModelCheckpoint\n",
    "from tqdm import tqdm\n",
    "from pytorch_lightning import loggers as pl_loggers\n",
    "import ray\n",
    "import ast\n",
    "import os\n",
    "import gc\n",
    "from data_utils import *\n",
    "from evaluate import *\n",
    "\n",
    "\n",
    "output_path_dir = \"/home/salzubi_umass_edu/experiments/\"\n",
    "train_bsz = 8\n",
    "lr = 3e-4\n",
    "train_fraction = 1\n",
    "model_name = \"google/flan-t5-base\"\n",
    "num_gpus = torch.cuda.device_count()\n",
    "num_cpus = cpu_count()\n",
    "\n",
    "args_dict = dict(\n",
    "    # file_name = file_name,\n",
    "    # output_dir=output_path_dir, # path to save the checkpoints\n",
    "    model_name_or_path=model_name,\n",
    "    tokenizer_name_or_path=model_name,\n",
    "    max_seq_length=512,\n",
    "    train_fraction= train_fraction,\n",
    "    lr=lr,\n",
    "    weight_decay=0.0,\n",
    "    scheduler_factor = .1,\n",
    "    use_gpu = True if num_gpus > 0 else False,\n",
    "    train_batch_size=train_bsz,\n",
    "    eval_batch_size=32,\n",
    "    num_train_steps=10000000,\n",
    "    es_patience = 4,\n",
    "    val_check_interval = .25,\n",
    "    dropout = .2,\n",
    "    n_gpu=num_gpus,\n",
    "    cpu_per_device=num_cpus,\n",
    "    task = \"classification\",\n",
    ")\n",
    "\n",
    "args = argparse.Namespace(**args_dict)\n",
    "tokenizer = AutoTokenizer.from_pretrained(args.model_name_or_path)"
   ]
  },
  {
   "cell_type": "code",
   "execution_count": null,
   "id": "2431b856-8380-4b88-9294-dcedd60f2398",
   "metadata": {},
   "outputs": [],
   "source": []
  },
  {
   "cell_type": "code",
   "execution_count": 9,
   "id": "aae95155-53cc-4c46-9347-77e59c6394b2",
   "metadata": {},
   "outputs": [],
   "source": [
    "model = load_ckpt(args, \"../experiments/TRG_task___None_baseline_dropout_0.2_SPECIAL_EXPERIMENT/trial_1/TRG_task___None_baseline_dropout_0.2_SPECIAL_EXPERIMENT___trial_1.ckpt\")"
   ]
  },
  {
   "cell_type": "code",
   "execution_count": 10,
   "id": "e408e851-7ebb-40df-a53d-9c6e3626a253",
   "metadata": {},
   "outputs": [],
   "source": [
    "# test1 = pd.read_csv(\"../experiments/mocha_tests/processed_sample_2.csv\")\n",
    "# test2 = pd.read_csv(\"../experiments/mocha_tests/processed_sample_1.csv\")\n",
    "# test3 = pd.read_csv(\"../experiments/mocha_tests/processed_sample_3.csv\")\n",
    "test = pd.read_csv(\"../experiments/mocha_tests/processed_mocha_test.csv\")\n",
    "# test = pd.concat([test1, test2, test3])\n",
    "# test_data = TLDataset(test1, tokenizer)\n",
    "###TODO: CHANGE LATER ON\n",
    "test_data = TLDataset(test, tokenizer)\n",
    "test_loader = DataLoader(test_data, batch_size=2, shuffle=False, num_workers=16, drop_last=False)"
   ]
  },
  {
   "cell_type": "code",
   "execution_count": null,
   "id": "1c43a4a7-09ca-4bdc-be32-9661dff83d28",
   "metadata": {},
   "outputs": [],
   "source": [
    "evaluated_batch, scores = evaluate_batch(test_loader, model, tokenizer, output_scores=True)"
   ]
  },
  {
   "cell_type": "code",
   "execution_count": 13,
   "id": "890b0ad4-e5cb-4c02-bb53-f1f13c1d8c87",
   "metadata": {},
   "outputs": [
    {
     "ename": "RuntimeError",
     "evalue": "stack expects each tensor to be equal size, but got [2, 32128] at entry 0 and [1, 32128] at entry 4208",
     "output_type": "error",
     "traceback": [
      "\u001b[0;31m---------------------------------------------------------------------------\u001b[0m",
      "\u001b[0;31mRuntimeError\u001b[0m                              Traceback (most recent call last)",
      "Cell \u001b[0;32mIn [13], line 4\u001b[0m\n\u001b[1;32m      2\u001b[0m label2id \u001b[38;5;241m=\u001b[39m {\u001b[38;5;241m5\u001b[39m: \u001b[38;5;241m305\u001b[39m, \u001b[38;5;241m4\u001b[39m: \u001b[38;5;241m314\u001b[39m, \u001b[38;5;241m1\u001b[39m: \u001b[38;5;241m209\u001b[39m, \u001b[38;5;241m3\u001b[39m: \u001b[38;5;241m220\u001b[39m, \u001b[38;5;241m2\u001b[39m: \u001b[38;5;241m204\u001b[39m}\n\u001b[1;32m      3\u001b[0m id2label \u001b[38;5;241m=\u001b[39m {v:k \u001b[38;5;28;01mfor\u001b[39;00m k,v \u001b[38;5;129;01min\u001b[39;00m label2id\u001b[38;5;241m.\u001b[39mitems()}\n\u001b[0;32m----> 4\u001b[0m stacked_scores \u001b[38;5;241m=\u001b[39m \u001b[43mtorch\u001b[49m\u001b[38;5;241;43m.\u001b[39;49m\u001b[43mstack\u001b[49m\u001b[43m(\u001b[49m\u001b[43mscores\u001b[49m\u001b[43m)\u001b[49m\n",
      "\u001b[0;31mRuntimeError\u001b[0m: stack expects each tensor to be equal size, but got [2, 32128] at entry 0 and [1, 32128] at entry 4208"
     ]
    }
   ],
   "source": [
    "softmax = torch.nn.Softmax(-1)\n",
    "label2id = {5: 305, 4: 314, 1: 209, 3: 220, 2: 204}\n",
    "id2label = {v:k for k,v in label2id.items()}\n",
    "stacked_scores = torch.stack(scores)"
   ]
  },
  {
   "cell_type": "code",
   "execution_count": 14,
   "id": "a2b141a5-d0fc-4e3c-a3a7-1dc52dcb0814",
   "metadata": {},
   "outputs": [],
   "source": [
    "# input_sample = tokenizer(tokenizer.batch_decode(example['source_ids'], skip_special_tokens = True), return_tensors = \"pt\", padding=True, truncation=True).input_ids\n",
    "# output = model.model.generate(input_sample, max_length = 16, return_dict_in_generate=True, output_scores=True)\n",
    "# text_output =tokenizer.batch_decode(output.sequences, skip_special_tokens=True)"
   ]
  },
  {
   "cell_type": "code",
   "execution_count": 15,
   "id": "c391d915-39ef-487f-b9aa-424781fd6d85",
   "metadata": {},
   "outputs": [],
   "source": [
    "real_output = {'example': [], '1': [], '2': [], '3': [], '4': [], '5': []}\n",
    "best_scores = {'example': [], 'label': [], 'score': []}\n",
    "for idx, (score1, score2) in enumerate(scores[:-3]):\n",
    "    if idx % 2 == 0:\n",
    "        norm_score1 = softmax(score1)\n",
    "        norm_score2 = softmax(score2)\n",
    "        real_output['example'] += [str(idx)]\n",
    "        real_output['example'] += [str(idx+1)]\n",
    "        best_scores['example'] += [str(idx)]\n",
    "        best_scores['example'] += [str(idx+1)]\n",
    "        \n",
    "        best_score_token1 = torch.argmax(norm_score1).item()\n",
    "        best_score_token2 = torch.argmax(norm_score2).item()\n",
    "        \n",
    "        best_score1 = norm_score1[best_score_token1].item()\n",
    "        best_score2 = norm_score2[best_score_token2].item()\n",
    "        \n",
    "        best_label1 = id2label[best_score_token1]\n",
    "        best_label2 = id2label[best_score_token2]\n",
    "        \n",
    "        best_scores['label'] += [str(best_label1)]\n",
    "        best_scores['label'] += [str(best_label2)]\n",
    "        best_scores['score'] += [str(best_score1)]\n",
    "        best_scores['score'] += [str(best_score2)]        \n",
    "\n",
    "        \n",
    "        for label, token_id in label2id.items():\n",
    "            real_output[str(label)] += [norm_score1[token_id].item()]\n",
    "            real_output[str(label)] += [norm_score2[token_id].item()]\n",
    "\n",
    "        #     # print(norm_score1[token_id], norm_score2[token_id])\n",
    "        # print()\n",
    "        # print()\n",
    "        \n",
    "best_df = pd.DataFrame(best_scores)\n",
    "real_df = pd.DataFrame(real_output)\n",
    "\n",
    "# real_df.to_csv(\"mocha_test_df_logits.csv\", index=False)\n",
    "# best_df.to_csv(\"mocha_test_df_logits_all_labels.csv\", index=False)"
   ]
  },
  {
   "cell_type": "code",
   "execution_count": 16,
   "id": "05d53ff7-f0ab-4bda-a4c4-954db2dc47ee",
   "metadata": {},
   "outputs": [],
   "source": [
    "real_df.to_csv(\"../experiments/mocha_tests/section2-experiments/mocha_test_df_logits_all_labels.csv\", index=True)\n",
    "best_df.to_csv(\"../experiments/mocha_tests/section2-experiments/mocha_test_df_logits.csv\", index=True)"
   ]
  },
  {
   "cell_type": "code",
   "execution_count": 29,
   "id": "dc7b0068-5c5b-44fe-b116-1e374bee7a74",
   "metadata": {},
   "outputs": [],
   "source": []
  },
  {
   "cell_type": "code",
   "execution_count": 26,
   "id": "9d55e907-7cfb-419f-be71-2c775d489db6",
   "metadata": {},
   "outputs": [],
   "source": [
    "least_confident_test = test[test.index.isin(best_df[-1000:].index)]"
   ]
  },
  {
   "cell_type": "code",
   "execution_count": 28,
   "id": "17bb43bd-eaa0-4860-8562-0aa5b4a95200",
   "metadata": {},
   "outputs": [],
   "source": [
    "random_test = test.sample(1000)"
   ]
  },
  {
   "cell_type": "code",
   "execution_count": null,
   "id": "96b552ce-3bb8-4c5e-a9f9-aa6494d116d6",
   "metadata": {},
   "outputs": [],
   "source": []
  },
  {
   "cell_type": "code",
   "execution_count": null,
   "id": "301a82d5-8d71-4ee0-bcb3-6d0fe4605ecf",
   "metadata": {},
   "outputs": [],
   "source": []
  },
  {
   "cell_type": "code",
   "execution_count": 35,
   "id": "9ae56dc0-136d-42b0-8f2f-95ab9008883a",
   "metadata": {},
   "outputs": [],
   "source": [
    "new_test = test[~test.index.isin(random_test.index)]"
   ]
  },
  {
   "cell_type": "code",
   "execution_count": 37,
   "id": "5e76d54a-46c0-4470-b2a3-2005bff9a04b",
   "metadata": {},
   "outputs": [],
   "source": [
    "new_test = new_test[~new_test.index.isin(least_confident_test.index)]"
   ]
  },
  {
   "cell_type": "code",
   "execution_count": 39,
   "id": "cb0aa215-0b8e-4fae-8092-14f6712ae6ea",
   "metadata": {},
   "outputs": [],
   "source": [
    "new_test.to_csv(\"../experiments/mocha_tests/section2-experiments/remainder_test_examples.csv\", index=True)"
   ]
  },
  {
   "cell_type": "code",
   "execution_count": 30,
   "id": "6757fe9f-44d5-49d4-acfa-6cd18c18ce4b",
   "metadata": {},
   "outputs": [],
   "source": [
    "random_test.to_csv(\"../experiments/mocha_tests/section2-experiments/random_1k_test_examples.csv\", index=True)"
   ]
  },
  {
   "cell_type": "code",
   "execution_count": 31,
   "id": "ff941939-cb9d-4d19-8f24-3ab9293d78eb",
   "metadata": {},
   "outputs": [],
   "source": [
    "least_confident_test.to_csv(\"../experiments/mocha_tests/section2-experiments/least_confident_1k_test_examples.csv\", index=True)"
   ]
  },
  {
   "cell_type": "code",
   "execution_count": null,
   "id": "3aadeea2-b4d3-4820-a603-49c5c1469b3d",
   "metadata": {},
   "outputs": [],
   "source": []
  },
  {
   "cell_type": "code",
   "execution_count": 19,
   "id": "e0d77c01-43a5-4c68-84ac-0a65e93a1e8c",
   "metadata": {},
   "outputs": [],
   "source": [
    "best_df = best_df.sort_values(by = [\"score\"], ascending=False)"
   ]
  },
  {
   "cell_type": "code",
   "execution_count": 21,
   "id": "efdc646a-f7f3-47c9-89b5-f9bc538f735f",
   "metadata": {},
   "outputs": [],
   "source": [
    "best_df.to_csv(\"../experiments/mocha_tests/section2-experiments/mocha_test_df_logits.csv\", index=True)"
   ]
  },
  {
   "cell_type": "code",
   "execution_count": 31,
   "id": "aaf4cfbc-a9cd-4422-b231-0077eb594036",
   "metadata": {},
   "outputs": [],
   "source": [
    "best_df.score = best_df.score.apply(lambda x: float(x))"
   ]
  },
  {
   "cell_type": "code",
   "execution_count": 53,
   "id": "ed0792ca-fa9c-49a2-b232-6e300915511a",
   "metadata": {},
   "outputs": [],
   "source": [
    "theta = .4\n",
    "auto_labeled_examples = best_df[best_df.score >= theta]\n",
    "auto_labeled_indices = auto_labeled_examples.index\n",
    "final_eval_auto_labeled = evaluated_batch[evaluated_batch.index.isin(auto_labeled_indices)]"
   ]
  },
  {
   "cell_type": "code",
   "execution_count": 54,
   "id": "cba667fb-6a6e-4b04-a8df-1c6413457c3d",
   "metadata": {},
   "outputs": [
    {
     "data": {
      "text/plain": [
       "0.5445544554455446"
      ]
     },
     "execution_count": 54,
     "metadata": {},
     "output_type": "execute_result"
    }
   ],
   "source": [
    "accuracy_score(final_eval_auto_labeled.predicted, final_eval_auto_labeled.ground_truth)"
   ]
  },
  {
   "cell_type": "code",
   "execution_count": 55,
   "id": "73e6bc63-95ec-4fe3-8b1c-6e52df55ce0c",
   "metadata": {},
   "outputs": [
    {
     "data": {
      "text/html": [
       "<div>\n",
       "<style scoped>\n",
       "    .dataframe tbody tr th:only-of-type {\n",
       "        vertical-align: middle;\n",
       "    }\n",
       "\n",
       "    .dataframe tbody tr th {\n",
       "        vertical-align: top;\n",
       "    }\n",
       "\n",
       "    .dataframe thead th {\n",
       "        text-align: right;\n",
       "    }\n",
       "</style>\n",
       "<table border=\"1\" class=\"dataframe\">\n",
       "  <thead>\n",
       "    <tr style=\"text-align: right;\">\n",
       "      <th></th>\n",
       "      <th>predicted</th>\n",
       "      <th>ground_truth</th>\n",
       "    </tr>\n",
       "  </thead>\n",
       "  <tbody>\n",
       "    <tr>\n",
       "      <th>0</th>\n",
       "      <td>1</td>\n",
       "      <td>3</td>\n",
       "    </tr>\n",
       "    <tr>\n",
       "      <th>1</th>\n",
       "      <td>1</td>\n",
       "      <td>1</td>\n",
       "    </tr>\n",
       "    <tr>\n",
       "      <th>2</th>\n",
       "      <td>1</td>\n",
       "      <td>1</td>\n",
       "    </tr>\n",
       "    <tr>\n",
       "      <th>4</th>\n",
       "      <td>1</td>\n",
       "      <td>2</td>\n",
       "    </tr>\n",
       "    <tr>\n",
       "      <th>5</th>\n",
       "      <td>1</td>\n",
       "      <td>1</td>\n",
       "    </tr>\n",
       "    <tr>\n",
       "      <th>...</th>\n",
       "      <td>...</td>\n",
       "      <td>...</td>\n",
       "    </tr>\n",
       "    <tr>\n",
       "      <th>140</th>\n",
       "      <td>1</td>\n",
       "      <td>4</td>\n",
       "    </tr>\n",
       "    <tr>\n",
       "      <th>141</th>\n",
       "      <td>1</td>\n",
       "      <td>1</td>\n",
       "    </tr>\n",
       "    <tr>\n",
       "      <th>142</th>\n",
       "      <td>1</td>\n",
       "      <td>1</td>\n",
       "    </tr>\n",
       "    <tr>\n",
       "      <th>147</th>\n",
       "      <td>1</td>\n",
       "      <td>1</td>\n",
       "    </tr>\n",
       "    <tr>\n",
       "      <th>148</th>\n",
       "      <td>1</td>\n",
       "      <td>5</td>\n",
       "    </tr>\n",
       "  </tbody>\n",
       "</table>\n",
       "<p>101 rows × 2 columns</p>\n",
       "</div>"
      ],
      "text/plain": [
       "    predicted ground_truth\n",
       "0           1            3\n",
       "1           1            1\n",
       "2           1            1\n",
       "4           1            2\n",
       "5           1            1\n",
       "..        ...          ...\n",
       "140         1            4\n",
       "141         1            1\n",
       "142         1            1\n",
       "147         1            1\n",
       "148         1            5\n",
       "\n",
       "[101 rows x 2 columns]"
      ]
     },
     "execution_count": 55,
     "metadata": {},
     "output_type": "execute_result"
    }
   ],
   "source": [
    "final_eval_auto_labeled"
   ]
  },
  {
   "cell_type": "code",
   "execution_count": 67,
   "id": "94a5806d-fbec-4591-b509-8dd3e1c29114",
   "metadata": {},
   "outputs": [],
   "source": [
    "import numpy as np\n",
    "\n",
    "theta_vals = np.linspace(.1, .77, 20)\n",
    "accs = []\n",
    "data_percentage = []\n",
    "for theta in theta_vals: \n",
    "    auto_labeled_examples = best_df[best_df.score >= theta]\n",
    "    auto_labeled_indices = auto_labeled_examples.index\n",
    "    final_eval_auto_labeled = evaluated_batch[evaluated_batch.index.isin(auto_labeled_indices)]\n",
    "    percentage = len(final_eval_auto_labeled)/len(best_df)\n",
    "    data_percentage += [percentage]\n",
    "    accs += [accuracy_score(final_eval_auto_labeled.predicted, final_eval_auto_labeled.ground_truth)]"
   ]
  },
  {
   "cell_type": "code",
   "execution_count": 65,
   "id": "ed92170c-891e-4675-b6e9-fd5eeea15261",
   "metadata": {},
   "outputs": [
    {
     "data": {
      "text/plain": [
       "[0.4866666666666667,\n",
       " 0.4866666666666667,\n",
       " 0.4866666666666667,\n",
       " 0.4866666666666667,\n",
       " 0.4866666666666667,\n",
       " 0.4965034965034965,\n",
       " 0.5076923076923077,\n",
       " 0.5391304347826087,\n",
       " 0.5533980582524272,\n",
       " 0.5555555555555556,\n",
       " 0.5434782608695652,\n",
       " 0.5641025641025641,\n",
       " 0.6153846153846154,\n",
       " 0.6956521739130435,\n",
       " 0.7105263157894737,\n",
       " 0.7407407407407407,\n",
       " 0.8571428571428571,\n",
       " 0.9,\n",
       " 1.0,\n",
       " 1.0]"
      ]
     },
     "execution_count": 65,
     "metadata": {},
     "output_type": "execute_result"
    }
   ],
   "source": [
    "accs"
   ]
  },
  {
   "cell_type": "code",
   "execution_count": 69,
   "id": "6269fd31-edbc-4178-88c1-1bcda2de3880",
   "metadata": {},
   "outputs": [
    {
     "data": {
      "image/png": "[encoded data removed]",
      "text/plain": [
       "<Figure size 640x480 with 1 Axes>"
      ]
     },
     "metadata": {},
     "output_type": "display_data"
    }
   ],
   "source": [
    "import matplotlib.pyplot as plt\n",
    "plt.plot(data_percentage, accs)\n",
    "plt.xlabel('Data Percentage')\n",
    "plt.ylabel('Accuracy Score')\n",
    "plt.show()"
   ]
  },
  {
   "cell_type": "code",
   "execution_count": null,
   "id": "a6a45d73-821f-4e88-ad5a-6f6bf74c72b0",
   "metadata": {},
   "outputs": [],
   "source": []
  },
  {
   "cell_type": "code",
   "execution_count": null,
   "id": "dd3b808c-0a52-4e22-87e5-4ba6d3e54f94",
   "metadata": {},
   "outputs": [],
   "source": []
  },
  {
   "cell_type": "code",
   "execution_count": null,
   "id": "34d1d284-bdb4-40d4-966e-3e335ae53cc5",
   "metadata": {},
   "outputs": [],
   "source": []
  }
 ],
 "metadata": {
  "kernelspec": {
   "display_name": "Python (.conda-wmt_env)",
   "language": "python",
   "name": "conda-env-.conda-wmt_env-py"
  },
  "language_info": {
   "codemirror_mode": {
    "name": "ipython",
    "version": 3
   },
   "file_extension": ".py",
   "mimetype": "text/x-python",
   "name": "python",
   "nbconvert_exporter": "python",
   "pygments_lexer": "ipython3",
   "version": "3.8.13"
  }
 },
 "nbformat": 4,
 "nbformat_minor": 5
}
